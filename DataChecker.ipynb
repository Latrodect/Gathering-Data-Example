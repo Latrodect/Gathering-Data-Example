{
 "cells": [
  {
   "cell_type": "code",
   "execution_count": 1,
   "metadata": {},
   "outputs": [],
   "source": [
    "import numpy as np\n",
    "import pandas as pd\n",
    "import datetime"
   ]
  },
  {
   "cell_type": "code",
   "execution_count": 2,
   "metadata": {},
   "outputs": [
    {
     "name": "stdout",
     "output_type": "stream",
     "text": [
      "        Date  Value\n",
      "0     21/1/2     39\n",
      "1     21/1/3     51\n",
      "2     21/1/4    112\n",
      "3     21/1/5    116\n",
      "4     21/1/6    115\n",
      "..       ...    ...\n",
      "175  21/6/26     96\n",
      "176  21/6/27    108\n",
      "177  21/6/28    442\n",
      "178  21/6/29    280\n",
      "179  21/6/30    330\n",
      "\n",
      "[180 rows x 2 columns]\n",
      "          Date  Value\n",
      "0     2/ 1/ 21     39\n",
      "1     3/ 1/ 21     51\n",
      "2     4/ 1/ 21    112\n",
      "3     5/ 1/ 21    116\n",
      "4     6/ 1/ 21    115\n",
      "..         ...    ...\n",
      "175  26/ 6/ 21     96\n",
      "176  27/ 6/ 21    108\n",
      "177  28/ 6/ 21    442\n",
      "178  29/ 6/ 21    280\n",
      "179  30/ 6/ 21    330\n",
      "\n",
      "[180 rows x 2 columns]\n"
     ]
    }
   ],
   "source": [
    "data = pd.read_csv('TestCaseData.csv')\n",
    "data.columns =[ 'Date', 'Value']\n",
    "print(data)\n",
    "\n",
    "data['Date']=( data.Date.str.split(\"/\")\n",
    "              .apply(lambda x: '/ '.join(x[::-1]).rstrip('/'))\n",
    "              .where(data['Date'].str.contains('/'),data['Date']) )\n",
    "\n",
    "\n",
    "print(data)\n"
   ]
  },
  {
   "cell_type": "code",
   "execution_count": 4,
   "metadata": {},
   "outputs": [
    {
     "name": "stdout",
     "output_type": "stream",
     "text": [
      "          Date  Value\n",
      "0   2021-02-01     39\n",
      "1   2021-03-01     51\n",
      "2   2021-04-01    112\n",
      "3   2021-05-01    116\n",
      "4   2021-06-01    115\n",
      "..         ...    ...\n",
      "175 2021-06-26     96\n",
      "176 2021-06-27    108\n",
      "177 2021-06-28    442\n",
      "178 2021-06-29    280\n",
      "179 2021-06-30    330\n",
      "\n",
      "[180 rows x 2 columns]\n",
      "Start Date2021-02-01\n",
      "End Date2021-04-01\n"
     ]
    },
    {
     "name": "stderr",
     "output_type": "stream",
     "text": [
      "C:\\Users\\hbaha\\Anaconda3\\lib\\site-packages\\ipykernel_launcher.py:12: FutureWarning: Comparing Series of datetimes with 'datetime.date'.  Currently, the\n",
      "'datetime.date' is coerced to a datetime. In the future pandas will\n",
      "not coerce, and a TypeError will be raised. To retain the current\n",
      "behavior, convert the 'datetime.date' to a datetime with\n",
      "'pd.Timestamp'.\n",
      "  if sys.path[0] == '':\n"
     ]
    }
   ],
   "source": [
    "data['Date'] = pd.to_datetime(data['Date'])\n",
    "print(\"Formatted Time Value\")\n",
    "print(\"   \")\n",
    "print(data)\n",
    "\n",
    "start_Date = str(input(\"Start Date\"))\n",
    "end_Date = str(input(\"End Date\"))\n",
    "\n",
    "\n",
    "starttime=datetime.datetime.strptime(\n",
    "    start_Date, '%Y-%m-%d')\n",
    "endtime=datetime.datetime.strptime(\n",
    "    end_Date, '%Y-%m-%d')\n",
    "mask = (data['Date'] > starttime.date()) & (data['Date'] <= endtime.date())\n",
    "\n",
    "data_Mask = data.loc[mask]\n",
    "\n",
    "\n"
   ]
  },
  {
   "cell_type": "code",
   "execution_count": 5,
   "metadata": {},
   "outputs": [
    {
     "name": "stdout",
     "output_type": "stream",
     "text": [
      "          Date  Value\n",
      "1   2021-03-01     51\n",
      "2   2021-04-01    112\n",
      "31  2021-02-02    125\n",
      "32  2021-03-02    172\n",
      "42  2021-02-13     12\n",
      "43  2021-02-14      0\n",
      "44  2021-02-15    110\n",
      "45  2021-02-16    104\n",
      "46  2021-02-17    139\n",
      "47  2021-02-18    150\n",
      "48  2021-02-19    158\n",
      "49  2021-02-20      3\n",
      "50  2021-02-21     14\n",
      "51  2021-02-22    128\n",
      "52  2021-02-23    177\n",
      "53  2021-02-24    194\n",
      "54  2021-02-25    173\n",
      "55  2021-02-26    177\n",
      "56  2021-02-27      6\n",
      "57  2021-02-28      1\n",
      "59  2021-02-03    183\n",
      "60  2021-03-03    111\n",
      "70  2021-03-13      8\n",
      "71  2021-03-14      2\n",
      "72  2021-03-15    102\n",
      "73  2021-03-16    129\n",
      "74  2021-03-17    119\n",
      "75  2021-03-18    117\n",
      "76  2021-03-19    149\n",
      "77  2021-03-20     12\n",
      "78  2021-03-21     23\n",
      "79  2021-03-22    149\n",
      "80  2021-03-23    146\n",
      "81  2021-03-24     95\n",
      "82  2021-03-25     99\n",
      "83  2021-03-26    220\n",
      "84  2021-03-27      9\n",
      "85  2021-03-28    450\n",
      "86  2021-03-29     16\n",
      "87  2021-03-30     30\n",
      "88  2021-03-31     77\n",
      "90  2021-02-04      9\n",
      "91  2021-03-04     15\n",
      "120 2021-02-05      9\n",
      "121 2021-03-05     31\n",
      "151 2021-02-06    202\n",
      "152 2021-03-06    118\n",
      " max: 450  min: 0  sum: 4636\n"
     ]
    }
   ],
   "source": [
    "print(\"Time in Range\")\n",
    "print(\"  \")\n",
    "print(data_Mask)\n",
    "max_Val  = data_Mask['Value'].loc[data_Mask['Value'].idxmax()] \n",
    "min_Val  = data_Mask['Value'].loc[data_Mask['Value'].idxmin()] \n",
    "sum_val  = data_Mask['Value'].sum()\n",
    "\n",
    "print(\"Minimum, Maximum & Sum Value of Range\")\n",
    "print(\" max:\",max_Val,\" min:\",min_Val,\" sum:\", sum_val)"
   ]
  },
  {
   "cell_type": "code",
   "execution_count": null,
   "metadata": {},
   "outputs": [],
   "source": []
  }
 ],
 "metadata": {
  "kernelspec": {
   "display_name": "Python 3",
   "language": "python",
   "name": "python3"
  },
  "language_info": {
   "codemirror_mode": {
    "name": "ipython",
    "version": 3
   },
   "file_extension": ".py",
   "mimetype": "text/x-python",
   "name": "python",
   "nbconvert_exporter": "python",
   "pygments_lexer": "ipython3",
   "version": "3.7.4"
  }
 },
 "nbformat": 4,
 "nbformat_minor": 2
}
